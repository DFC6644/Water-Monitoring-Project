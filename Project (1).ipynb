{
 "cells": [
  {
   "cell_type": "code",
   "execution_count": 60,
   "id": "c9de43c7",
   "metadata": {},
   "outputs": [
    {
     "name": "stdout",
     "output_type": "stream",
     "text": [
      "1.4.4\n"
     ]
    }
   ],
   "source": [
    "import pandas\n",
    "import matplotlib.pyplot as plt\n",
    "from sklearn import linear_model\n",
    "print(pandas.__version__)\n",
    "df = pandas.read_csv(\"Test.csv\")"
   ]
  },
  {
   "cell_type": "code",
   "execution_count": 61,
   "id": "ad28b057",
   "metadata": {},
   "outputs": [
    {
     "name": "stdout",
     "output_type": "stream",
     "text": [
      "    Type    pH  Chloride  Nitrate  Sulphate  Ammonia    Iron\n",
      "0   Safe  8.00       4.0     10.0     500.0     32.5   10.00\n",
      "1   Safe  7.18      16.0      9.4     500.0     30.0   10.87\n",
      "2  ecoli  8.10      39.3      3.7      38.7      1.9   16.00\n",
      "3  ecoli  7.20      20.2      1.1      34.9      0.5  446.20\n",
      "4  ecoli  8.40      38.6      2.5     732.2      0.2  200.30\n"
     ]
    }
   ],
   "source": [
    "print(df)"
   ]
  },
  {
   "cell_type": "code",
   "execution_count": 62,
   "id": "2b519885",
   "metadata": {},
   "outputs": [
    {
     "name": "stdout",
     "output_type": "stream",
     "text": [
      "  Type    pH  Chloride  Nitrate  Sulphate  Ammonia    Iron\n",
      "0    1  8.00       4.0     10.0     500.0     32.5   10.00\n",
      "1    1  7.18      16.0      9.4     500.0     30.0   10.87\n",
      "2    2  8.10      39.3      3.7      38.7      1.9   16.00\n",
      "3    2  7.20      20.2      1.1      34.9      0.5  446.20\n",
      "4    2  8.40      38.6      2.5     732.2      0.2  200.30\n"
     ]
    }
   ],
   "source": [
    "df['Type']= df['Type'].replace(['Safe'], '1')\n",
    "df['Type']= df['Type'].replace(['ecoli'], '2')\n",
    "X=df[['pH', 'Chloride', 'Nitrate', 'Sulphate', 'Ammonia', 'Iron']]\n",
    "y=df['Type']\n",
    "print(df)"
   ]
  },
  {
   "cell_type": "code",
   "execution_count": 64,
   "id": "5e356a23",
   "metadata": {},
   "outputs": [
    {
     "name": "stdout",
     "output_type": "stream",
     "text": [
      "[-12.02377498]\n"
     ]
    },
    {
     "name": "stderr",
     "output_type": "stream",
     "text": [
      "C:\\Users\\rschr\\anaconda3\\lib\\site-packages\\sklearn\\base.py:450: UserWarning: X does not have valid feature names, but LinearRegression was fitted with feature names\n",
      "  warnings.warn(\n"
     ]
    }
   ],
   "source": [
    "regr = linear_model.LinearRegression()\n",
    "regr.fit(X, y)\n",
    "predict = regr.predict([[10,44,110,20,320.50,100]])\n",
    "print(predict)"
   ]
  },
  {
   "cell_type": "code",
   "execution_count": null,
   "id": "113bd577",
   "metadata": {},
   "outputs": [],
   "source": [
    "if predict==1:\n",
    "    print('Safe')\n",
    "elif predict>1.5:\n",
    "    print('Safe') \n",
    "elif predict<1:\n",
    "    print('Safe')\n",
    "elif predict==2:\n",
    "    print('ecoli')\n",
    "elif predict>2.5:\n",
    "    print('ecoli') \n",
    "elif predict<2 and predict>1.5 :\n",
    "    print('ecoli')    \n",
    "else predicr<1\n",
    "    print('Data is unavailable')\n"
   ]
  },
  {
   "cell_type": "code",
   "execution_count": null,
   "id": "56335b0f",
   "metadata": {},
   "outputs": [],
   "source": []
  },
  {
   "cell_type": "code",
   "execution_count": null,
   "id": "468789f3",
   "metadata": {},
   "outputs": [],
   "source": []
  }
 ],
 "metadata": {
  "kernelspec": {
   "display_name": "Python 3 (ipykernel)",
   "language": "python",
   "name": "python3"
  },
  "language_info": {
   "codemirror_mode": {
    "name": "ipython",
    "version": 3
   },
   "file_extension": ".py",
   "mimetype": "text/x-python",
   "name": "python",
   "nbconvert_exporter": "python",
   "pygments_lexer": "ipython3",
   "version": "3.9.13"
  }
 },
 "nbformat": 4,
 "nbformat_minor": 5
}
